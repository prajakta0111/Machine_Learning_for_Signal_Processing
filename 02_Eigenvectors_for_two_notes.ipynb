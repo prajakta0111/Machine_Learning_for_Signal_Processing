{
 "cells": [
  {
   "cell_type": "code",
   "execution_count": 1,
   "metadata": {},
   "outputs": [],
   "source": [
    "import matplotlib.image as mpimg \n",
    "import matplotlib.pyplot as plt \n",
    "import numpy as np\n",
    "import pandas as pd"
   ]
  },
  {
   "cell_type": "markdown",
   "metadata": {},
   "source": [
    "### Eigenvectors for Two-Notes"
   ]
  },
  {
   "cell_type": "markdown",
   "metadata": {},
   "source": [
    "Reading the data"
   ]
  },
  {
   "cell_type": "code",
   "execution_count": 37,
   "metadata": {},
   "outputs": [],
   "source": [
    "flute = scipy.io.loadmat('D:/iu/Semester 2/MLSP/assignment1/data/flute.mat')"
   ]
  },
  {
   "cell_type": "code",
   "execution_count": 38,
   "metadata": {},
   "outputs": [],
   "source": [
    "X = np.array(flute['X'])"
   ]
  },
  {
   "cell_type": "code",
   "execution_count": 39,
   "metadata": {},
   "outputs": [
    {
     "data": {
      "text/plain": [
       "(128, 143)"
      ]
     },
     "execution_count": 39,
     "metadata": {},
     "output_type": "execute_result"
    }
   ],
   "source": [
    "X.shape"
   ]
  },
  {
   "cell_type": "code",
   "execution_count": 40,
   "metadata": {},
   "outputs": [],
   "source": [
    "w1 = np.random.normal(0,1,(128,1))"
   ]
  },
  {
   "cell_type": "code",
   "execution_count": 41,
   "metadata": {},
   "outputs": [],
   "source": [
    "# w1.shape\n",
    "prev_lambda=0"
   ]
  },
  {
   "cell_type": "code",
   "execution_count": 42,
   "metadata": {},
   "outputs": [
    {
     "name": "stdout",
     "output_type": "stream",
     "text": [
      "******************\n",
      "Iteration  1\n",
      "diff [[820.59189698]]\n",
      "lambda [[820.59189698]]\n",
      "******************\n",
      "Iteration  2\n",
      "diff [[157264.11362428]]\n",
      "lambda [[158084.70552126]]\n",
      "******************\n",
      "Iteration  3\n",
      "diff [[30258.03584094]]\n",
      "lambda [[188342.7413622]]\n",
      "******************\n",
      "Iteration  4\n",
      "diff [[294.18962701]]\n",
      "lambda [[188636.93098921]]\n",
      "******************\n",
      "Iteration  5\n",
      "diff [[17.37231262]]\n",
      "lambda [[188654.30330183]]\n",
      "******************\n",
      "Iteration  6\n",
      "diff [[1.102268]]\n",
      "lambda [[188655.40556983]]\n",
      "******************\n",
      "Iteration  7\n",
      "diff [[0.0699866]]\n",
      "lambda [[188655.47555643]]\n",
      "******************\n",
      "Iteration  8\n",
      "diff [[0.00444368]]\n",
      "lambda [[188655.48000012]]\n",
      "******************\n",
      "Iteration  9\n",
      "diff [[0.00028214]]\n",
      "lambda [[188655.48028226]]\n",
      "******************\n",
      "Iteration  10\n",
      "diff [[1.79142808e-05]]\n",
      "lambda [[188655.48030018]]\n",
      "******************\n",
      "Iteration  11\n",
      "diff [[1.1374068e-06]]\n",
      "lambda [[188655.48030131]]\n",
      "******************\n",
      "Iteration  12\n",
      "diff [[7.2264811e-08]]\n",
      "lambda [[188655.48030139]]\n",
      "Difference in gradient is lesser than 0.000001 hence converged\n"
     ]
    }
   ],
   "source": [
    "for i in range(1,50):\n",
    "    threshold = 0.000001\n",
    "    print(\"******************\")\n",
    "    print(\"Iteration \",i)\n",
    "    w1 = w1 / np.sqrt(np.sum(w1**2)) \n",
    "    z = np.dot(np.transpose(w1),X)\n",
    "    lambda1 = np.dot(z,np.transpose(z))\n",
    "    gradient = 2*X\n",
    "    gradient = np.dot(gradient,np.transpose(X))\n",
    "    gradient = np.dot(gradient,w1)\n",
    "    diff = lambda1-prev_lambda\n",
    "    print(\"diff\",diff)\n",
    "    prev_lambda = lambda1\n",
    "    print(\"lambda\",lambda1)\n",
    "    if diff<threshold:\n",
    "        print(\"Difference in gradient is lesser than 0.000001 hence converged\")\n",
    "        break\n",
    "    w1 = w1 + 0.0001*gradient"
   ]
  },
  {
   "cell_type": "markdown",
   "metadata": {},
   "source": [
    "Calculating the components necessary for subtracting the effect of first eigen vector from data."
   ]
  },
  {
   "cell_type": "code",
   "execution_count": 43,
   "metadata": {},
   "outputs": [],
   "source": [
    "s1 = np.dot(np.transpose(w1),X)\n",
    "s1 = np.sqrt(np.sum(s1**2))"
   ]
  },
  {
   "cell_type": "code",
   "execution_count": 44,
   "metadata": {},
   "outputs": [],
   "source": [
    "u1 = np.dot(np.transpose(X),w1)/s1"
   ]
  },
  {
   "cell_type": "code",
   "execution_count": 48,
   "metadata": {},
   "outputs": [],
   "source": [
    "temp = np.dot(w1,s1)"
   ]
  },
  {
   "cell_type": "code",
   "execution_count": 49,
   "metadata": {},
   "outputs": [],
   "source": [
    "temp = np.dot(temp,np.transpose(u1))"
   ]
  },
  {
   "cell_type": "code",
   "execution_count": 50,
   "metadata": {},
   "outputs": [],
   "source": [
    "Xtrans = X - temp "
   ]
  },
  {
   "cell_type": "code",
   "execution_count": 51,
   "metadata": {},
   "outputs": [
    {
     "data": {
      "text/plain": [
       "(128, 143)"
      ]
     },
     "execution_count": 51,
     "metadata": {},
     "output_type": "execute_result"
    }
   ],
   "source": [
    "Xtrans.shape"
   ]
  },
  {
   "cell_type": "code",
   "execution_count": 52,
   "metadata": {},
   "outputs": [],
   "source": [
    "w2 = np.random.normal(0,1,(128,1))\n",
    "prev_lambda = 0 "
   ]
  },
  {
   "cell_type": "code",
   "execution_count": 53,
   "metadata": {},
   "outputs": [
    {
     "name": "stdout",
     "output_type": "stream",
     "text": [
      "******************\n",
      "Iteration  1\n",
      "diff [[74.89558928]]\n",
      "lambda [[74.89558928]]\n",
      "******************\n",
      "Iteration  2\n",
      "diff [[5986.74613281]]\n",
      "lambda [[6061.6417221]]\n",
      "******************\n",
      "Iteration  3\n",
      "diff [[35046.89577153]]\n",
      "lambda [[41108.53749362]]\n",
      "******************\n",
      "Iteration  4\n",
      "diff [[2658.46603528]]\n",
      "lambda [[43767.0035289]]\n",
      "******************\n",
      "Iteration  5\n",
      "diff [[29.75080115]]\n",
      "lambda [[43796.75433005]]\n",
      "******************\n",
      "Iteration  6\n",
      "diff [[0.31272098]]\n",
      "lambda [[43797.06705103]]\n",
      "******************\n",
      "Iteration  7\n",
      "diff [[0.00328491]]\n",
      "lambda [[43797.07033594]]\n",
      "******************\n",
      "Iteration  8\n",
      "diff [[3.4505676e-05]]\n",
      "lambda [[43797.07037045]]\n",
      "******************\n",
      "Iteration  9\n",
      "diff [[3.62459105e-07]]\n",
      "lambda [[43797.07037081]]\n",
      "Difference in gradient is lesser than 0.000001 hence converged\n"
     ]
    }
   ],
   "source": [
    "for i in range(1,50):\n",
    "    threshold = 1e-5\n",
    "    print(\"******************\")\n",
    "    print(\"Iteration \",i)\n",
    "    w2 = w2 / np.sqrt(np.sum(w2**2))\n",
    " \n",
    "    z = np.dot(np.transpose(w2),Xtrans)\n",
    "    lambda1 = np.dot(z,np.transpose(z))\n",
    "    gradient = 2*Xtrans\n",
    "    gradient = np.dot(gradient,np.transpose(Xtrans))\n",
    "    gradient = np.dot(gradient,w2)\n",
    "    diff = lambda1-prev_lambda\n",
    "    print(\"diff\",diff)\n",
    "    prev_lambda = lambda1\n",
    "    print(\"lambda\",lambda1)\n",
    "    if diff<threshold:\n",
    "        print(\"Difference in gradient is lesser than 0.000001 hence converged\")\n",
    "        break\n",
    "    w2 = w2 + 0.0001*gradient"
   ]
  },
  {
   "cell_type": "code",
   "execution_count": 54,
   "metadata": {},
   "outputs": [
    {
     "data": {
      "image/png": "[encoded data removed]",
      "text/plain": [
       "<Figure size 288x1152 with 1 Axes>"
      ]
     },
     "metadata": {
      "needs_background": "light"
     },
     "output_type": "display_data"
    }
   ],
   "source": [
    "plt.matshow(w1,cmap=\"jet\");"
   ]
  },
  {
   "cell_type": "code",
   "execution_count": 55,
   "metadata": {},
   "outputs": [
    {
     "data": {
      "image/png": "[encoded data removed]",
      "text/plain": [
       "<Figure size 288x1152 with 1 Axes>"
      ]
     },
     "metadata": {
      "needs_background": "light"
     },
     "output_type": "display_data"
    }
   ],
   "source": [
    "plt.matshow(w2,cmap=\"jet\");"
   ]
  },
  {
   "cell_type": "code",
   "execution_count": 56,
   "metadata": {},
   "outputs": [],
   "source": [
    "w = np.column_stack((w1,w2))"
   ]
  },
  {
   "cell_type": "code",
   "execution_count": 57,
   "metadata": {},
   "outputs": [
    {
     "data": {
      "image/png": "[encoded data removed]",
      "text/plain": [
       "<Figure size 288x1152 with 1 Axes>"
      ]
     },
     "metadata": {
      "needs_background": "light"
     },
     "output_type": "display_data"
    }
   ],
   "source": [
    "plt.matshow(w,cmap=\"jet\");"
   ]
  },
  {
   "cell_type": "code",
   "execution_count": 58,
   "metadata": {},
   "outputs": [],
   "source": [
    "temporal = np.dot(np.transpose(w),X)\n",
    "temp0=temporal[0].reshape(143,1)\n",
    "temp1=temporal[1].reshape(143,1)\n",
    "\n",
    "# temporal[1]=temporal[1].reshape(143,1)"
   ]
  },
  {
   "cell_type": "code",
   "execution_count": 59,
   "metadata": {},
   "outputs": [
    {
     "data": {
      "image/png": "[encoded data removed]",
      "text/plain": [
       "<Figure size 1152x144 with 1 Axes>"
      ]
     },
     "metadata": {
      "needs_background": "light"
     },
     "output_type": "display_data"
    }
   ],
   "source": [
    "plt.matshow(temporal,cmap=\"jet\");"
   ]
  },
  {
   "cell_type": "code",
   "execution_count": 60,
   "metadata": {},
   "outputs": [],
   "source": [
    "first = np.dot(w1,np.transpose(temp0))"
   ]
  },
  {
   "cell_type": "code",
   "execution_count": 61,
   "metadata": {},
   "outputs": [],
   "source": [
    "second = np.dot(w2,np.transpose(temp1))"
   ]
  },
  {
   "cell_type": "code",
   "execution_count": 62,
   "metadata": {},
   "outputs": [
    {
     "data": {
      "image/png": "[encoded data removed]",
      "text/plain": [
       "<Figure size 321.75x288 with 1 Axes>"
      ]
     },
     "metadata": {
      "needs_background": "light"
     },
     "output_type": "display_data"
    }
   ],
   "source": [
    "plt.matshow(first,cmap=\"jet\");"
   ]
  },
  {
   "cell_type": "code",
   "execution_count": 63,
   "metadata": {},
   "outputs": [
    {
     "data": {
      "image/png": "[encoded data removed]",
      "text/plain": [
       "<Figure size 321.75x288 with 1 Axes>"
      ]
     },
     "metadata": {
      "needs_background": "light"
     },
     "output_type": "display_data"
    }
   ],
   "source": [
    "plt.matshow(second,cmap=\"jet\");"
   ]
  }
 ],
 "metadata": {
  "kernelspec": {
   "display_name": "Python 3",
   "language": "python",
   "name": "python3"
  },
  "language_info": {
   "codemirror_mode": {
    "name": "ipython",
    "version": 3
   },
   "file_extension": ".py",
   "mimetype": "text/x-python",
   "name": "python",
   "nbconvert_exporter": "python",
   "pygments_lexer": "ipython3",
   "version": "3.7.5"
  }
 },
 "nbformat": 4,
 "nbformat_minor": 2
}
