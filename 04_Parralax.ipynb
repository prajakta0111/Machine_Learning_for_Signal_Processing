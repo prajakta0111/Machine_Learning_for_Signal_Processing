{
 "cells": [
  {
   "cell_type": "markdown",
   "metadata": {},
   "source": [
    "### Imports"
   ]
  },
  {
   "cell_type": "code",
   "execution_count": 1,
   "metadata": {},
   "outputs": [],
   "source": [
    "from PIL import Image\n",
    "from PIL import ImageFilter\n",
    "import numpy as np\n",
    "import copy\n",
    "import matplotlib.pyplot as plt \n",
    "from numpy import linalg as LA\n",
    "import scipy.io\n",
    "import librosa\n",
    "import IPython\n",
    "from scipy import signal"
   ]
  },
  {
   "cell_type": "markdown",
   "metadata": {},
   "source": [
    "### Parallax Problem"
   ]
  },
  {
   "cell_type": "code",
   "execution_count": 22,
   "metadata": {},
   "outputs": [],
   "source": [
    "june = scipy.io.loadmat('D:/iu/Semester 2/MLSP/assignment2/data/june.mat')"
   ]
  },
  {
   "cell_type": "code",
   "execution_count": 23,
   "metadata": {},
   "outputs": [],
   "source": [
    "june = np.array(june['june'])"
   ]
  },
  {
   "cell_type": "code",
   "execution_count": 24,
   "metadata": {},
   "outputs": [],
   "source": [
    "dec = scipy.io.loadmat('D:/iu/Semester 2/MLSP/assignment2/data/december.mat')"
   ]
  },
  {
   "cell_type": "code",
   "execution_count": 25,
   "metadata": {},
   "outputs": [],
   "source": [
    "dec = np.array(dec['december'])"
   ]
  },
  {
   "cell_type": "code",
   "execution_count": 26,
   "metadata": {},
   "outputs": [
    {
     "data": {
      "text/plain": [
       "(5, 66)"
      ]
     },
     "execution_count": 26,
     "metadata": {},
     "output_type": "execute_result"
    }
   ],
   "source": [
    "disparity = dec[:,0]-june[:,0] \n",
    "np.min(disparity),np.max(disparity)"
   ]
  },
  {
   "cell_type": "code",
   "execution_count": 27,
   "metadata": {},
   "outputs": [
    {
     "data": {
      "image/png": "[encoded data removed]",
      "text/plain": [
       "<Figure size 432x288 with 1 Axes>"
      ]
     },
     "metadata": {
      "needs_background": "light"
     },
     "output_type": "display_data"
    }
   ],
   "source": [
    "plt.hist(disparity,alpha = 0.5);"
   ]
  },
  {
   "cell_type": "code",
   "execution_count": 28,
   "metadata": {},
   "outputs": [],
   "source": [
    "def kmeans(disp):\n",
    "    n1_clust = []\n",
    "    n2_clust = []\n",
    "    thresh = 0.0001\n",
    "    n1 = disp[np.random.randint(0,1350,1)]\n",
    "    n2 = disp[np.random.randint(1351,2699,1)]\n",
    "#     print(\"initialized centroids\",n1,n2)\n",
    "    flag = True\n",
    "    for i in range(0,len(disp)):\n",
    "        if np.abs(disp[i]-n1)<np.abs(disp[i]-n2):\n",
    "            n1_clust.append(disp[i])\n",
    "        else: n2_clust.append(disp[i])\n",
    "    n1_clust = np.array(n1_clust)\n",
    "    n2_clust = np.array(n2_clust)\n",
    "\n",
    "    n1_mean = np.mean(n1_clust)\n",
    "    n2_mean = np.mean(n2_clust)\n",
    "#     print(\"new centroids\", n1_mean,n2_mean)\n",
    "    while flag:\n",
    "\n",
    "        if np.abs(n1 - n1_mean) <= thresh and np.abs(n2 - n2_mean) <= thresh:\n",
    "            flag = False\n",
    "            return (n1_mean,n2_mean,np.std(n1_clust),np.std(n2_clust),len(n1_clust),len(n2_clust))\n",
    "        \n",
    "        else:\n",
    "            n1_clust = []\n",
    "            n2_clust = []\n",
    "            n1,n2 = n1_mean, n2_mean\n",
    "#             print(\"updated centroids\",n1,n2)\n",
    "            for i in range(0,len(disp)):\n",
    "                if np.abs(disp[i]-n1)<np.abs(disp[i]-n2):\n",
    "                    n1_clust.append(disp[i])\n",
    "                else: n2_clust.append(disp[i])\n",
    "                    \n",
    "            n1_clust = np.array(n1_clust)\n",
    "            n2_clust = np.array(n2_clust)\n",
    "#             print(n1_clust.shape,n2_clust.shape)\n",
    "            n1_mean = np.mean(n1_clust)\n",
    "            n2_mean = np.mean(n2_clust)\n"
   ]
  },
  {
   "cell_type": "code",
   "execution_count": 29,
   "metadata": {},
   "outputs": [],
   "source": [
    "n1,n2,std1,std2,len1,len2 = kmeans(disparity)"
   ]
  },
  {
   "cell_type": "code",
   "execution_count": 30,
   "metadata": {},
   "outputs": [
    {
     "name": "stdout",
     "output_type": "stream",
     "text": [
      "The means of the clusters are 27.74271844660194 and 42.31183368869936\n"
     ]
    }
   ],
   "source": [
    "print(\"The means of the clusters are\",n1,\"and\",n2)"
   ]
  }
 ],
 "metadata": {
  "kernelspec": {
   "display_name": "Python 3",
   "language": "python",
   "name": "python3"
  },
  "language_info": {
   "codemirror_mode": {
    "name": "ipython",
    "version": 3
   },
   "file_extension": ".py",
   "mimetype": "text/x-python",
   "name": "python",
   "nbconvert_exporter": "python",
   "pygments_lexer": "ipython3",
   "version": "3.7.5"
  }
 },
 "nbformat": 4,
 "nbformat_minor": 2
}
