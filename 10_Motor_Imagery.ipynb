{
 "cells": [
  {
   "cell_type": "markdown",
   "metadata": {},
   "source": [
    "### Motor Imagery"
   ]
  },
  {
   "cell_type": "code",
   "execution_count": 3,
   "metadata": {},
   "outputs": [],
   "source": [
    "eeg = scipy.io.loadmat(root + 'eeg.mat')"
   ]
  },
  {
   "cell_type": "code",
   "execution_count": 5,
   "metadata": {},
   "outputs": [
    {
     "data": {
      "text/plain": [
       "(768, 3, 112)"
      ]
     },
     "execution_count": 5,
     "metadata": {},
     "output_type": "execute_result"
    }
   ],
   "source": [
    "x_train = np.array(eeg['x_train'])\n",
    "y_train = np.array(eeg['y_train'])\n",
    "x_test = np.array(eeg['x_te'])\n",
    "y_test = np.array(eeg['y_te'])\n",
    "ytr = np.array([x[0] for x in y_train])\n",
    "yte = np.array([x[0] for x in y_test])\n",
    "\n",
    "x_train.shape"
   ]
  },
  {
   "cell_type": "code",
   "execution_count": 56,
   "metadata": {},
   "outputs": [
    {
     "data": {
      "text/plain": [
       "(255, 112)"
      ]
     },
     "execution_count": 56,
     "metadata": {},
     "output_type": "execute_result"
    }
   ],
   "source": [
    "matrix = np.full((112,255),0,dtype = complex)\n",
    "for i in range(0,112):\n",
    "\n",
    "    sample1 = librosa.stft(x_train[:,0,i], n_fft = 64, hop_length=48, window='blackman')\n",
    "    sample2 = librosa.stft(x_train[:,1,i], n_fft = 64, hop_length=48, window='blackman')\n",
    "    sample3 = librosa.stft(x_train[:,2,i], n_fft = 64, hop_length=48, window='blackman')\n",
    "    matrix[i]= (np.hstack((sample1[2:7, :].reshape(1, 85),sample2[2:7, :].reshape(1, 85),sample3[2:7, :].reshape(1, 85))))\n",
    "# matrix.shape\n",
    "matrix = np.transpose(matrix)\n",
    "matrix.shape"
   ]
  },
  {
   "cell_type": "code",
   "execution_count": 57,
   "metadata": {},
   "outputs": [
    {
     "data": {
      "text/plain": [
       "(255, 28)"
      ]
     },
     "execution_count": 57,
     "metadata": {},
     "output_type": "execute_result"
    }
   ],
   "source": [
    "matrix_test = np.full((28,255),0,dtype = complex)\n",
    "for i in range(0,28):\n",
    "\n",
    "    sample1 = librosa.stft(x_test[:,0,i], n_fft = 64, hop_length=48, window='blackman')\n",
    "    sample2 = librosa.stft(x_test[:,1,i], n_fft = 64, hop_length=48, window='blackman')\n",
    "    sample3 = librosa.stft(x_test[:,2,i], n_fft = 64, hop_length=48, window='blackman')\n",
    "    matrix_test[i]= (np.hstack((sample1[2:7, :].reshape(1, 85),sample2[2:7, :].reshape(1, 85),sample3[2:7, :].reshape(1, 85))))\n",
    "# matrix.shape\n",
    "matrix_test = np.transpose(matrix_test)\n",
    "matrix_test.shape"
   ]
  },
  {
   "cell_type": "code",
   "execution_count": 58,
   "metadata": {},
   "outputs": [],
   "source": [
    "def create_WH(matrix,rank):\n",
    "    W = np.ones((matrix.shape[0],rank))\n",
    "    H = np.ones((rank,matrix.shape[1]))\n",
    "\n",
    "    return W,H"
   ]
  },
  {
   "cell_type": "code",
   "execution_count": 59,
   "metadata": {},
   "outputs": [],
   "source": [
    "w1,h1 = create_WH(matrix,2)\n",
    "w2,h2 = create_WH(matrix,4)\n",
    "w3,h3 = create_WH(matrix,6)\n",
    "w4,h4 = create_WH(matrix,8)\n",
    "w5,h5 = create_WH(matrix,10)\n",
    "w6,h6 = create_WH(matrix,15)\n",
    "w7,h7 = create_WH(matrix,20)\n",
    "\n",
    "\n"
   ]
  },
  {
   "cell_type": "code",
   "execution_count": 60,
   "metadata": {},
   "outputs": [],
   "source": [
    "def find_NMF(matrix,w,h,lr):\n",
    "    prev_obj = np.full((matrix.shape),np.inf)\n",
    "\n",
    "\n",
    "    for i in range(0,5000):\n",
    "        o = 0.5*np.trace(np.transpose(matrix - np.matmul(w,h)))\n",
    "        o*= (matrix - np.matmul(w,h))\n",
    "        prev_w = copy.deepcopy(w)\n",
    "        prev_h = copy.deepcopy(h)\n",
    "        w -= lr*(np.matmul(w,np.matmul(h,np.transpose(h))) - np.matmul(matrix,np.transpose(h)))\n",
    "        h -= lr*(np.matmul(np.matmul(np.transpose(w),w),h) - np.matmul(np.transpose(w),matrix))\n",
    "        if i==1000: lr/=10\n",
    "        if np.allclose(prev_obj,o,atol=1e-3,rtol=1e-3):\n",
    "            print(\"Converged at \", i)\n",
    "            break\n",
    "        prev_obj = copy.deepcopy(o)\n",
    "\n",
    "    return w,h"
   ]
  },
  {
   "cell_type": "code",
   "execution_count": 61,
   "metadata": {},
   "outputs": [
    {
     "name": "stdout",
     "output_type": "stream",
     "text": [
      "Converged at  1002\n",
      "Converged at  946\n",
      "Converged at  739\n",
      "Converged at  610\n",
      "Converged at  523\n",
      "Converged at  390\n",
      "Converged at  315\n"
     ]
    }
   ],
   "source": [
    "w1,h1 = find_NMF(np.abs(matrix),w1,h1,1e-05)\n",
    "w2,h2 = find_NMF(np.abs(matrix),w2,h2,1e-05)\n",
    "w3,h3 = find_NMF(np.abs(matrix),w3,h3,1e-05)\n",
    "w4,h4 = find_NMF(np.abs(matrix),w4,h4,1e-05)\n",
    "w5,h5 = find_NMF(np.abs(matrix),w5,h5,1e-05)\n",
    "w6,h6 = find_NMF(np.abs(matrix),w6,h6,1e-05)\n",
    "w7,h7 = find_NMF(np.abs(matrix),w7,h7,1e-05)\n"
   ]
  },
  {
   "cell_type": "code",
   "execution_count": 62,
   "metadata": {},
   "outputs": [
    {
     "data": {
      "text/plain": [
       "((2, 112), (4, 112))"
      ]
     },
     "execution_count": 62,
     "metadata": {},
     "output_type": "execute_result"
    }
   ],
   "source": [
    "h1.shape,h2.shape"
   ]
  },
  {
   "cell_type": "code",
   "execution_count": 63,
   "metadata": {},
   "outputs": [
    {
     "data": {
      "text/plain": [
       "((255, 2), (2, 28))"
      ]
     },
     "execution_count": 63,
     "metadata": {},
     "output_type": "execute_result"
    }
   ],
   "source": [
    "wt1,ht1 = create_WH(matrix_test,2)\n",
    "wt2,ht2 = create_WH(matrix_test,4)\n",
    "wt3,ht3 = create_WH(matrix_test,6)\n",
    "wt4,ht4 = create_WH(matrix_test,8)\n",
    "wt5,ht5 = create_WH(matrix_test,10)\n",
    "wt6,ht6 = create_WH(matrix_test,15)\n",
    "wt7,ht7 = create_WH(matrix_test,20)\n",
    "wt1.shape,ht1.shape"
   ]
  },
  {
   "cell_type": "code",
   "execution_count": 64,
   "metadata": {},
   "outputs": [
    {
     "name": "stdout",
     "output_type": "stream",
     "text": [
      "Converged at  681\n",
      "Converged at  514\n",
      "Converged at  408\n",
      "Converged at  340\n",
      "Converged at  293\n",
      "Converged at  219\n",
      "Converged at  177\n"
     ]
    }
   ],
   "source": [
    "wt1,ht1 = find_NMF(np.abs(matrix_test),wt1,ht1,1e-05)\n",
    "wt2,ht2 = find_NMF(np.abs(matrix_test),wt2,ht2,1e-05)\n",
    "wt3,ht3 = find_NMF(np.abs(matrix_test),wt3,ht3,1e-05)\n",
    "wt4,ht4 = find_NMF(np.abs(matrix_test),wt4,ht4,1e-05)\n",
    "wt5,ht5 = find_NMF(np.abs(matrix_test),wt5,ht5,1e-05)\n",
    "wt6,ht6 = find_NMF(np.abs(matrix_test),wt6,ht6,1e-05)\n",
    "wt7,ht7 = find_NMF(np.abs(matrix_test),wt7,ht7,1e-05)\n"
   ]
  },
  {
   "cell_type": "code",
   "execution_count": 65,
   "metadata": {},
   "outputs": [],
   "source": [
    "def test_knn(train, test, k, train_labels):\n",
    "    h = []\n",
    "    dist, label = np.sqrt(np.power((train - test), 2)), train_labels\n",
    "    d = dict(zip(dist, label))\n",
    "    heappush(h, (dist, label))\n",
    "    smallest = heapq.nsmallest(k, dist)\n",
    "    return [d[x] for x in smallest]"
   ]
  },
  {
   "cell_type": "code",
   "execution_count": 66,
   "metadata": {},
   "outputs": [],
   "source": [
    "neighbours = [5,10,15,20]\n",
    "def get_preds(train,test,ytr):\n",
    "    all_preds = []\n",
    "    for k in neighbours:\n",
    "        train_preds = []\n",
    "\n",
    "        for i in range(0,test.shape[1]):\n",
    "            d= {}\n",
    "            result = test_knn(train[0],test[0][i],k,ytr)\n",
    "            for j in result:\n",
    "                if j not in d:\n",
    "                    d[j]=1\n",
    "                else:\n",
    "                    d[j]+=1\n",
    "            train_preds.append(max(d, key=d.get))\n",
    "        all_preds.append(train_preds)\n",
    "    return np.array(all_preds)\n"
   ]
  },
  {
   "cell_type": "code",
   "execution_count": 67,
   "metadata": {},
   "outputs": [],
   "source": [
    "pred_train1,pred_test1 = get_preds(h1,h1,ytr),get_preds(h1,ht1,ytr)\n",
    "pred_train2,pred_test2 = get_preds(h2,h2,ytr),get_preds(h2,ht2,ytr)\n",
    "pred_train3,pred_test3 = get_preds(h3,h3,ytr),get_preds(h3,ht3,ytr)\n",
    "pred_train4,pred_test4 = get_preds(h4,h4,ytr),get_preds(h4,ht4,ytr)\n",
    "pred_train5,pred_test5 = get_preds(h5,h5,ytr),get_preds(h5,ht5,ytr)\n",
    "pred_train6,pred_test6 = get_preds(h6,h6,ytr),get_preds(h6,ht6,ytr)\n",
    "pred_train7,pred_test7 = get_preds(h7,h7,ytr),get_preds(h7,ht7,ytr)"
   ]
  },
  {
   "cell_type": "code",
   "execution_count": 68,
   "metadata": {},
   "outputs": [
    {
     "data": {
      "text/plain": [
       "((4, 112), (4, 28), (112,), (28,))"
      ]
     },
     "execution_count": 68,
     "metadata": {},
     "output_type": "execute_result"
    }
   ],
   "source": [
    "pred_train1.shape,pred_test1.shape,ytr.shape,yte.shape"
   ]
  },
  {
   "cell_type": "code",
   "execution_count": 69,
   "metadata": {},
   "outputs": [],
   "source": [
    "def acc(preds, gt):\n",
    "    return round(np.mean(preds == gt) * 100, 2)"
   ]
  },
  {
   "cell_type": "code",
   "execution_count": 70,
   "metadata": {},
   "outputs": [],
   "source": [
    "acc_list = []\n",
    "\n",
    "a1 = [acc(row, ytr) for row in pred_train1]\n",
    "ta1 = [acc(row, yte) for row in pred_test1]\n",
    "\n",
    "a2 = [acc(row, ytr) for row in pred_train2]\n",
    "ta2 = [acc(row, yte) for row in pred_test2]\n",
    "\n",
    "a3 = [acc(row, ytr) for row in pred_train3]\n",
    "ta3 = [acc(row, yte) for row in pred_test3]\n",
    "\n",
    "a4 = [acc(row, ytr) for row in pred_train4]\n",
    "ta4 = [acc(row, yte) for row in pred_test4]\n",
    "\n",
    "a5 = [acc(row, ytr) for row in pred_train5]\n",
    "ta5 = [acc(row, yte) for row in pred_test5]\n",
    "\n",
    "a6 = [acc(row, ytr) for row in pred_train6]\n",
    "ta6 = [acc(row, yte) for row in pred_test6]\n",
    "\n",
    "a7 = [acc(row, ytr) for row in pred_train7]\n",
    "ta7 = [acc(row, yte) for row in pred_test7]\n",
    "\n",
    "\n",
    "acc_list.append(a1)\n",
    "acc_list.append(ta1)\n",
    "\n",
    "acc_list.append(a2)\n",
    "acc_list.append(ta2)\n",
    "\n",
    "acc_list.append(a3)\n",
    "acc_list.append(ta3)\n",
    "\n",
    "acc_list.append(a4)\n",
    "acc_list.append(ta4)\n",
    "\n",
    "acc_list.append(a5)\n",
    "acc_list.append(ta5)\n",
    "\n",
    "acc_list.append(a6)\n",
    "acc_list.append(ta6)\n",
    "\n",
    "acc_list.append(a7)\n",
    "acc_list.append(ta7)\n",
    "\n",
    "\n",
    "acc_list = np.array(acc_list)\n",
    "idx = [2,2,4,4,6,6,8,8,10,10,15,15,20,20]\n",
    "typeacc = ['Train','Test']*7\n",
    "my_dict = {'Accuracy type':typeacc,'Rank of H':idx,'5 Neighbours': acc_list[:,0], '10 Neighbours': acc_list[:,1], '15 Neighbours': acc_list[:,2], '20 Neighbours': acc_list[:,3]}\n",
    "Accuracy_table = pd.DataFrame(my_dict)"
   ]
  },
  {
   "cell_type": "code",
   "execution_count": 71,
   "metadata": {},
   "outputs": [
    {
     "data": {
      "text/html": [
       "<div>\n",
       "<style scoped>\n",
       "    .dataframe tbody tr th:only-of-type {\n",
       "        vertical-align: middle;\n",
       "    }\n",
       "\n",
       "    .dataframe tbody tr th {\n",
       "        vertical-align: top;\n",
       "    }\n",
       "\n",
       "    .dataframe thead th {\n",
       "        text-align: right;\n",
       "    }\n",
       "</style>\n",
       "<table border=\"1\" class=\"dataframe\">\n",
       "  <thead>\n",
       "    <tr style=\"text-align: right;\">\n",
       "      <th></th>\n",
       "      <th>Accuracy type</th>\n",
       "      <th>Rank of H</th>\n",
       "      <th>5 Neighbours</th>\n",
       "      <th>10 Neighbours</th>\n",
       "      <th>15 Neighbours</th>\n",
       "      <th>20 Neighbours</th>\n",
       "    </tr>\n",
       "  </thead>\n",
       "  <tbody>\n",
       "    <tr>\n",
       "      <th>0</th>\n",
       "      <td>Train</td>\n",
       "      <td>2</td>\n",
       "      <td>69.64</td>\n",
       "      <td>76.79</td>\n",
       "      <td>63.39</td>\n",
       "      <td>65.18</td>\n",
       "    </tr>\n",
       "    <tr>\n",
       "      <th>1</th>\n",
       "      <td>Test</td>\n",
       "      <td>2</td>\n",
       "      <td>53.57</td>\n",
       "      <td>50.00</td>\n",
       "      <td>50.00</td>\n",
       "      <td>53.57</td>\n",
       "    </tr>\n",
       "    <tr>\n",
       "      <th>2</th>\n",
       "      <td>Train</td>\n",
       "      <td>4</td>\n",
       "      <td>67.86</td>\n",
       "      <td>78.57</td>\n",
       "      <td>65.18</td>\n",
       "      <td>63.39</td>\n",
       "    </tr>\n",
       "    <tr>\n",
       "      <th>3</th>\n",
       "      <td>Test</td>\n",
       "      <td>4</td>\n",
       "      <td>67.86</td>\n",
       "      <td>57.14</td>\n",
       "      <td>50.00</td>\n",
       "      <td>50.00</td>\n",
       "    </tr>\n",
       "    <tr>\n",
       "      <th>4</th>\n",
       "      <td>Train</td>\n",
       "      <td>6</td>\n",
       "      <td>67.86</td>\n",
       "      <td>79.46</td>\n",
       "      <td>63.39</td>\n",
       "      <td>66.96</td>\n",
       "    </tr>\n",
       "    <tr>\n",
       "      <th>5</th>\n",
       "      <td>Test</td>\n",
       "      <td>6</td>\n",
       "      <td>67.86</td>\n",
       "      <td>60.71</td>\n",
       "      <td>53.57</td>\n",
       "      <td>50.00</td>\n",
       "    </tr>\n",
       "    <tr>\n",
       "      <th>6</th>\n",
       "      <td>Train</td>\n",
       "      <td>8</td>\n",
       "      <td>66.07</td>\n",
       "      <td>79.46</td>\n",
       "      <td>64.29</td>\n",
       "      <td>66.07</td>\n",
       "    </tr>\n",
       "    <tr>\n",
       "      <th>7</th>\n",
       "      <td>Test</td>\n",
       "      <td>8</td>\n",
       "      <td>64.29</td>\n",
       "      <td>57.14</td>\n",
       "      <td>50.00</td>\n",
       "      <td>50.00</td>\n",
       "    </tr>\n",
       "    <tr>\n",
       "      <th>8</th>\n",
       "      <td>Train</td>\n",
       "      <td>10</td>\n",
       "      <td>66.07</td>\n",
       "      <td>80.36</td>\n",
       "      <td>64.29</td>\n",
       "      <td>66.07</td>\n",
       "    </tr>\n",
       "    <tr>\n",
       "      <th>9</th>\n",
       "      <td>Test</td>\n",
       "      <td>10</td>\n",
       "      <td>64.29</td>\n",
       "      <td>60.71</td>\n",
       "      <td>50.00</td>\n",
       "      <td>50.00</td>\n",
       "    </tr>\n",
       "    <tr>\n",
       "      <th>10</th>\n",
       "      <td>Train</td>\n",
       "      <td>15</td>\n",
       "      <td>67.86</td>\n",
       "      <td>79.46</td>\n",
       "      <td>64.29</td>\n",
       "      <td>65.18</td>\n",
       "    </tr>\n",
       "    <tr>\n",
       "      <th>11</th>\n",
       "      <td>Test</td>\n",
       "      <td>15</td>\n",
       "      <td>57.14</td>\n",
       "      <td>60.71</td>\n",
       "      <td>46.43</td>\n",
       "      <td>50.00</td>\n",
       "    </tr>\n",
       "    <tr>\n",
       "      <th>12</th>\n",
       "      <td>Train</td>\n",
       "      <td>20</td>\n",
       "      <td>66.96</td>\n",
       "      <td>79.46</td>\n",
       "      <td>64.29</td>\n",
       "      <td>64.29</td>\n",
       "    </tr>\n",
       "    <tr>\n",
       "      <th>13</th>\n",
       "      <td>Test</td>\n",
       "      <td>20</td>\n",
       "      <td>60.71</td>\n",
       "      <td>60.71</td>\n",
       "      <td>53.57</td>\n",
       "      <td>50.00</td>\n",
       "    </tr>\n",
       "  </tbody>\n",
       "</table>\n",
       "</div>"
      ],
      "text/plain": [
       "   Accuracy type  Rank of H  5 Neighbours  10 Neighbours  15 Neighbours  \\\n",
       "0          Train          2         69.64          76.79          63.39   \n",
       "1           Test          2         53.57          50.00          50.00   \n",
       "2          Train          4         67.86          78.57          65.18   \n",
       "3           Test          4         67.86          57.14          50.00   \n",
       "4          Train          6         67.86          79.46          63.39   \n",
       "5           Test          6         67.86          60.71          53.57   \n",
       "6          Train          8         66.07          79.46          64.29   \n",
       "7           Test          8         64.29          57.14          50.00   \n",
       "8          Train         10         66.07          80.36          64.29   \n",
       "9           Test         10         64.29          60.71          50.00   \n",
       "10         Train         15         67.86          79.46          64.29   \n",
       "11          Test         15         57.14          60.71          46.43   \n",
       "12         Train         20         66.96          79.46          64.29   \n",
       "13          Test         20         60.71          60.71          53.57   \n",
       "\n",
       "    20 Neighbours  \n",
       "0           65.18  \n",
       "1           53.57  \n",
       "2           63.39  \n",
       "3           50.00  \n",
       "4           66.96  \n",
       "5           50.00  \n",
       "6           66.07  \n",
       "7           50.00  \n",
       "8           66.07  \n",
       "9           50.00  \n",
       "10          65.18  \n",
       "11          50.00  \n",
       "12          64.29  \n",
       "13          50.00  "
      ]
     },
     "execution_count": 71,
     "metadata": {},
     "output_type": "execute_result"
    }
   ],
   "source": [
    "Accuracy_table"
   ]
  },
  {
   "cell_type": "code",
   "execution_count": null,
   "metadata": {},
   "outputs": [],
   "source": []
  }
 ],
 "metadata": {
  "kernelspec": {
   "display_name": "Python 3",
   "language": "python",
   "name": "python3"
  },
  "language_info": {
   "codemirror_mode": {
    "name": "ipython",
    "version": 3
   },
   "file_extension": ".py",
   "mimetype": "text/x-python",
   "name": "python",
   "nbconvert_exporter": "python",
   "pygments_lexer": "ipython3",
   "version": "3.7.5"
  }
 },
 "nbformat": 4,
 "nbformat_minor": 2
}
