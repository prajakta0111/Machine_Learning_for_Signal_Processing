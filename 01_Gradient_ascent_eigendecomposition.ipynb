{
 "cells": [
  {
   "cell_type": "code",
   "execution_count": 1,
   "metadata": {},
   "outputs": [],
   "source": [
    "import matplotlib.image as mpimg \n",
    "import matplotlib.pyplot as plt \n",
    "import numpy as np\n",
    "import pandas as pd"
   ]
  },
  {
   "cell_type": "markdown",
   "metadata": {},
   "source": [
    "### Gradient Ascent for Eigendecomposition"
   ]
  },
  {
   "cell_type": "markdown",
   "metadata": {},
   "source": [
    "Reading the data and plotting the points"
   ]
  },
  {
   "cell_type": "code",
   "execution_count": 17,
   "metadata": {},
   "outputs": [],
   "source": [
    "import scipy.io\n",
    "X = scipy.io.loadmat('D:/iu/Semester 2/MLSP/assignment1/data/X.mat')"
   ]
  },
  {
   "cell_type": "code",
   "execution_count": 18,
   "metadata": {},
   "outputs": [
    {
     "data": {
      "text/plain": [
       "dict"
      ]
     },
     "execution_count": 18,
     "metadata": {},
     "output_type": "execute_result"
    }
   ],
   "source": [
    "type(X)"
   ]
  },
  {
   "cell_type": "code",
   "execution_count": 19,
   "metadata": {},
   "outputs": [],
   "source": [
    "X = np.array(X['X'])"
   ]
  },
  {
   "cell_type": "code",
   "execution_count": 20,
   "metadata": {},
   "outputs": [
    {
     "data": {
      "text/plain": [
       "(2, 1000)"
      ]
     },
     "execution_count": 20,
     "metadata": {},
     "output_type": "execute_result"
    }
   ],
   "source": [
    "X.shape"
   ]
  },
  {
   "cell_type": "code",
   "execution_count": 21,
   "metadata": {},
   "outputs": [
    {
     "data": {
      "image/png": "[encoded data removed]",
      "text/plain": [
       "<Figure size 432x288 with 1 Axes>"
      ]
     },
     "metadata": {
      "needs_background": "light"
     },
     "output_type": "display_data"
    }
   ],
   "source": [
    "plt.scatter(X[0,:], X[1,:])\n",
    "plt.show()"
   ]
  },
  {
   "cell_type": "code",
   "execution_count": 22,
   "metadata": {},
   "outputs": [],
   "source": [
    "w1 = np.array([np.random.normal(0, 1, 1),np.random.normal(0, 1, 1)])\n",
    "prev_lambda = 0 "
   ]
  },
  {
   "cell_type": "code",
   "execution_count": 23,
   "metadata": {},
   "outputs": [
    {
     "name": "stdout",
     "output_type": "stream",
     "text": [
      "******************\n",
      "Iteration  1\n",
      "diff [[553.0388493]]\n",
      "lambda [[553.0388493]]\n",
      "grad [[  656.21791179]\n",
      " [-1397.94827553]]\n",
      "******************\n",
      "Iteration  2\n",
      "diff [[611.96009555]]\n",
      "lambda [[1164.99894485]]\n",
      "grad [[ 1625.17636327]\n",
      " [-2124.72997763]]\n",
      "******************\n",
      "Iteration  3\n",
      "diff [[397.34614668]]\n",
      "lambda [[1562.34509153]]\n",
      "grad [[ 2148.73905476]\n",
      " [-2374.08435033]]\n",
      "******************\n",
      "Iteration  4\n",
      "diff [[82.50250067]]\n",
      "lambda [[1644.8475922]]\n",
      "grad [[ 2288.69117711]\n",
      " [-2378.74587631]]\n",
      "******************\n",
      "Iteration  5\n",
      "diff [[11.88229377]]\n",
      "lambda [[1656.72988597]]\n",
      "grad [[ 2324.95206157]\n",
      " [-2363.00034239]]\n",
      "******************\n",
      "Iteration  6\n",
      "diff [[1.6089809]]\n",
      "lambda [[1658.33886687]]\n",
      "grad [[ 2335.93569086]\n",
      " [-2354.80798529]]\n",
      "******************\n",
      "Iteration  7\n",
      "diff [[0.21601143]]\n",
      "lambda [[1658.5548783]]\n",
      "grad [[ 2339.64108281]\n",
      " [-2351.48459739]]\n",
      "******************\n",
      "Iteration  8\n",
      "diff [[0.02896681]]\n",
      "lambda [[1658.5838451]]\n",
      "grad [[ 2340.95510728]\n",
      " [-2350.2245035 ]]\n",
      "******************\n",
      "Iteration  9\n",
      "diff [[0.0038838]]\n",
      "lambda [[1658.58772891]]\n",
      "grad [[ 2341.43050725]\n",
      " [-2349.75732549]]\n",
      "******************\n",
      "Iteration  10\n",
      "diff [[0.00052072]]\n",
      "lambda [[1658.58824963]]\n",
      "grad [[ 2341.60380957]\n",
      " [-2349.58548844]]\n",
      "******************\n",
      "Iteration  11\n",
      "diff [[6.98153758e-05]]\n",
      "lambda [[1658.58831944]]\n",
      "grad [[ 2341.66716286]\n",
      " [-2349.52246448]]\n",
      "******************\n",
      "Iteration  12\n",
      "diff [[9.36046035e-06]]\n",
      "lambda [[1658.5883288]]\n",
      "grad [[ 2341.69034655]\n",
      " [-2349.4993736 ]]\n",
      "******************\n",
      "Iteration  13\n",
      "diff [[1.25499923e-06]]\n",
      "lambda [[1658.58833006]]\n",
      "grad [[ 2341.69883368]\n",
      " [-2349.49091674]]\n",
      "******************\n",
      "Iteration  14\n",
      "diff [[1.68263568e-07]]\n",
      "lambda [[1658.58833023]]\n",
      "grad [[ 2341.70194109]\n",
      " [-2349.48781991]]\n",
      "Difference in gradient is lesser than 0.000001 hence converged\n"
     ]
    }
   ],
   "source": [
    "for i in range(1,50):\n",
    "    threshold = 0.000001\n",
    "    print(\"******************\")\n",
    "    print(\"Iteration \",i)\n",
    "    w1 = w1 / np.sqrt(w1[0]**2+w1[1]**2)\n",
    " \n",
    "    z = np.dot(np.transpose(w1),X)\n",
    "    lambda1 = np.dot(z,np.transpose(z))\n",
    "    gradient = 2*X\n",
    "    gradient = np.dot(gradient,np.transpose(X))\n",
    "    gradient = np.dot(gradient,w1)\n",
    "    diff = lambda1-prev_lambda\n",
    "    print(\"diff\",diff)\n",
    "    prev_lambda = lambda1\n",
    "    print(\"lambda\",lambda1)\n",
    "    print(\"grad\",gradient)\n",
    "    if diff<threshold:\n",
    "        print(\"Difference in gradient is lesser than 0.000001 hence converged\")\n",
    "        break\n",
    "    w1 = w1 + 0.001*gradient"
   ]
  },
  {
   "cell_type": "markdown",
   "metadata": {},
   "source": [
    "Calculating the components necessary for subtracting the effect of first eigen vector from data."
   ]
  },
  {
   "cell_type": "code",
   "execution_count": 24,
   "metadata": {},
   "outputs": [],
   "source": [
    "s1 = np.dot(np.transpose(w1),X)\n",
    "s1 = np.sqrt(np.sum(s1**2))"
   ]
  },
  {
   "cell_type": "code",
   "execution_count": 25,
   "metadata": {},
   "outputs": [],
   "source": [
    "u1 = np.dot(np.transpose(X),w1)/s1"
   ]
  },
  {
   "cell_type": "code",
   "execution_count": 29,
   "metadata": {},
   "outputs": [],
   "source": [
    "temp = np.dot(w1,s1)"
   ]
  },
  {
   "cell_type": "code",
   "execution_count": 30,
   "metadata": {},
   "outputs": [],
   "source": [
    "temp = np.dot(temp,np.transpose(u1))"
   ]
  },
  {
   "cell_type": "code",
   "execution_count": 31,
   "metadata": {},
   "outputs": [],
   "source": [
    "Xtrans = X - temp "
   ]
  },
  {
   "cell_type": "code",
   "execution_count": 32,
   "metadata": {},
   "outputs": [
    {
     "data": {
      "text/plain": [
       "(2, 1000)"
      ]
     },
     "execution_count": 32,
     "metadata": {},
     "output_type": "execute_result"
    }
   ],
   "source": [
    "Xtrans.shape"
   ]
  },
  {
   "cell_type": "code",
   "execution_count": 33,
   "metadata": {},
   "outputs": [
    {
     "data": {
      "image/png": "[encoded data removed]",
      "text/plain": [
       "<Figure size 432x288 with 1 Axes>"
      ]
     },
     "metadata": {
      "needs_background": "light"
     },
     "output_type": "display_data"
    }
   ],
   "source": [
    "plt.scatter(Xtrans[0,:], Xtrans[1,:])\n",
    "plt.show()"
   ]
  },
  {
   "cell_type": "code",
   "execution_count": 34,
   "metadata": {},
   "outputs": [],
   "source": [
    "w2 = np.array([np.random.normal(0, 1, 1),np.random.normal(0, 1, 1)])\n",
    "prev_lambda = 0 "
   ]
  },
  {
   "cell_type": "code",
   "execution_count": 35,
   "metadata": {},
   "outputs": [
    {
     "name": "stdout",
     "output_type": "stream",
     "text": [
      "******************\n",
      "Iteration  1\n",
      "diff [[0.35839285]]\n",
      "lambda [[0.35839285]]\n",
      "grad [[-14.45135713]\n",
      " [-14.40336363]]\n",
      "******************\n",
      "Iteration  2\n",
      "diff [[0.54999993]]\n",
      "lambda [[0.90839278]]\n",
      "grad [[-23.0073078 ]\n",
      " [-22.93089966]]\n",
      "******************\n",
      "Iteration  3\n",
      "diff [[1.4079752]]\n",
      "lambda [[2.31636798]]\n",
      "grad [[-36.73945768]\n",
      " [-36.61744456]]\n",
      "******************\n",
      "Iteration  4\n",
      "diff [[3.62484073]]\n",
      "lambda [[5.94120872]]\n",
      "grad [[-58.83914718]\n",
      " [-58.64374016]]\n",
      "******************\n",
      "Iteration  5\n",
      "diff [[9.28380843]]\n",
      "lambda [[15.22501715]]\n",
      "grad [[-94.1906643 ]\n",
      " [-93.87785356]]\n",
      "******************\n",
      "Iteration  6\n",
      "diff [[22.70880039]]\n",
      "lambda [[37.93381753]]\n",
      "grad [[-148.67646964]\n",
      " [-148.18270948]]\n",
      "******************\n",
      "Iteration  7\n",
      "diff [[47.2781963]]\n",
      "lambda [[85.21201383]]\n",
      "grad [[-222.83293435]\n",
      " [-222.09289778]]\n",
      "******************\n",
      "Iteration  8\n",
      "diff [[66.67988649]]\n",
      "lambda [[151.89190033]]\n",
      "grad [[-297.5063724 ]\n",
      " [-296.51834253]]\n",
      "******************\n",
      "Iteration  9\n",
      "diff [[49.49208255]]\n",
      "lambda [[201.38398287]]\n",
      "grad [[-342.56376851]\n",
      " [-341.42610133]]\n",
      "******************\n",
      "Iteration  10\n",
      "diff [[16.06379326]]\n",
      "lambda [[217.44777613]]\n",
      "grad [[-355.96430454]\n",
      " [-354.78213367]]\n",
      "******************\n",
      "Iteration  11\n",
      "diff [[-1.44391867]]\n",
      "lambda [[216.00385746]]\n",
      "grad [[-354.78048098]\n",
      " [-353.60224164]]\n",
      "Difference in gradient is lesser than 0.000001 hence converged\n"
     ]
    }
   ],
   "source": [
    "for i in range(1,50):\n",
    "    threshold = 1e-5\n",
    "    print(\"******************\")\n",
    "    print(\"Iteration \",i)\n",
    "    w2 = w2 / np.sqrt(np.sum(w2**2)+w2[1]**2)\n",
    " \n",
    "    z = np.dot(np.transpose(w2),Xtrans)\n",
    "    lambda1 = np.dot(z,np.transpose(z))\n",
    "    gradient = 2*Xtrans\n",
    "    gradient = np.dot(gradient,np.transpose(Xtrans))\n",
    "    gradient = np.dot(gradient,w2)\n",
    "    diff = lambda1-prev_lambda\n",
    "    print(\"diff\",diff)\n",
    "    prev_lambda = lambda1\n",
    "    print(\"lambda\",lambda1)\n",
    "    print(\"grad\",gradient)\n",
    "    if diff<threshold:\n",
    "        print(\"Difference in gradient is lesser than 0.000001 hence converged\")\n",
    "        break\n",
    "    w2 = w2 + 0.001*gradient"
   ]
  },
  {
   "cell_type": "code",
   "execution_count": 36,
   "metadata": {},
   "outputs": [
    {
     "data": {
      "image/png": "[encoded data removed]",
      "text/plain": [
       "<Figure size 432x288 with 1 Axes>"
      ]
     },
     "metadata": {
      "needs_background": "light"
     },
     "output_type": "display_data"
    }
   ],
   "source": [
    "plt.scatter(X[0,:], X[1,:],color=\"yellow\");\n",
    "plt.plot(w1,color=\"red\");\n",
    "plt.plot(w2,color=\"blue\");"
   ]
  }
 ],
 "metadata": {
  "kernelspec": {
   "display_name": "Python 3",
   "language": "python",
   "name": "python3"
  },
  "language_info": {
   "codemirror_mode": {
    "name": "ipython",
    "version": 3
   },
   "file_extension": ".py",
   "mimetype": "text/x-python",
   "name": "python",
   "nbconvert_exporter": "python",
   "pygments_lexer": "ipython3",
   "version": "3.7.5"
  }
 },
 "nbformat": 4,
 "nbformat_minor": 2
}
